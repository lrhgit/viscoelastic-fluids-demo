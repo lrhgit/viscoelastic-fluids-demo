{
 "cells": [
  {
   "cell_type": "code",
   "execution_count": 1,
   "metadata": {},
   "outputs": [
    {
     "data": {
      "text/html": [
       "\n",
       "<script>\n",
       "  function toggleCodeCells() {\n",
       "    var codeCells = document.querySelectorAll('div.input');\n",
       "    var anyVisible = Array.from(codeCells).some(c => c.style.display !== 'none');\n",
       "    codeCells.forEach(c => c.style.display = anyVisible ? 'none' : '');\n",
       "  }\n",
       "\n",
       "  // Add toggle button\n",
       "  const button = document.createElement('button');\n",
       "  button.textContent = 'Show/Hide Code';\n",
       "  button.style.position = 'fixed';\n",
       "  button.style.top = '10px';\n",
       "  button.style.right = '10px';\n",
       "  button.style.zIndex = 1000;\n",
       "  button.style.padding = '6px 10px';\n",
       "  button.style.background = '#1976D2';\n",
       "  button.style.color = 'white';\n",
       "  button.style.border = 'none';\n",
       "  button.style.borderRadius = '6px';\n",
       "  button.onclick = toggleCodeCells;\n",
       "  document.body.appendChild(button);\n",
       "\n",
       "  // Hide all code cells (including this one) on load\n",
       "  document.addEventListener('DOMContentLoaded', function() {\n",
       "    var firstCell = document.querySelector('div.input');\n",
       "    if (firstCell) firstCell.style.display = 'none';\n",
       "    toggleCodeCells();\n",
       "  });\n",
       "</script>\n"
      ],
      "text/plain": [
       "<IPython.core.display.HTML object>"
      ]
     },
     "metadata": {},
     "output_type": "display_data"
    }
   ],
   "source": [
    "# Hide all code cells (including this one) and add a toggle button\n",
    "from IPython.display import HTML, display\n",
    "\n",
    "display(HTML('''\n",
    "<script>\n",
    "  function toggleCodeCells() {\n",
    "    var codeCells = document.querySelectorAll('div.input');\n",
    "    var anyVisible = Array.from(codeCells).some(c => c.style.display !== 'none');\n",
    "    codeCells.forEach(c => c.style.display = anyVisible ? 'none' : '');\n",
    "  }\n",
    "\n",
    "  // Add toggle button\n",
    "  const button = document.createElement('button');\n",
    "  button.textContent = 'Show/Hide Code';\n",
    "  button.style.position = 'fixed';\n",
    "  button.style.top = '10px';\n",
    "  button.style.right = '10px';\n",
    "  button.style.zIndex = 1000;\n",
    "  button.style.padding = '6px 10px';\n",
    "  button.style.background = '#1976D2';\n",
    "  button.style.color = 'white';\n",
    "  button.style.border = 'none';\n",
    "  button.style.borderRadius = '6px';\n",
    "  button.onclick = toggleCodeCells;\n",
    "  document.body.appendChild(button);\n",
    "\n",
    "  // Hide all code cells (including this one) on load\n",
    "  document.addEventListener('DOMContentLoaded', function() {\n",
    "    var firstCell = document.querySelector('div.input');\n",
    "    if (firstCell) firstCell.style.display = 'none';\n",
    "    toggleCodeCells();\n",
    "  });\n",
    "</script>\n",
    "'''))\n"
   ]
  },
  {
   "cell_type": "markdown",
   "metadata": {},
   "source": [
    "\n",
    "# Kelvin–Voigt Model — Viscoelastic Solid (Parallel)\n",
    "\n",
    "The **Kelvin–Voigt model** represents a spring and a dashpot in **parallel** and captures bounded creep and no stress relaxation under a step strain.\n",
    "\n",
    "$$\n",
    "\\sigma = E\\,\\gamma + \\eta\\,\\dot{\\gamma}, \\qquad \\tau = \\frac{\\eta}{E}\n",
    "$$\n",
    "\n",
    "- Under constant stress $ \\sigma_0 $, strain approaches $ \\sigma_0/E $ as $ t \\to \\infty $:  \n",
    "  $$ \\gamma(t) = \\frac{\\sigma_0}{E}\\left(1 - e^{-t/\\tau}\\right) $$\n",
    "- Under constant strain $ \\gamma_0 $, stress is constant: $ \\sigma(t) = E\\,\\gamma_0 $.\n"
   ]
  },
  {
   "cell_type": "code",
   "execution_count": 2,
   "metadata": {},
   "outputs": [
    {
     "data": {
      "application/vnd.jupyter.widget-view+json": {
       "model_id": "3a8e588745c245edb139dc19af6a6abc",
       "version_major": 2,
       "version_minor": 0
      },
      "text/plain": [
       "HBox(children=(VBox(children=(FloatLogSlider(value=100000.0, description='E [Pa]', max=7.0, min=3.0), FloatLog…"
      ]
     },
     "metadata": {},
     "output_type": "display_data"
    },
    {
     "data": {
      "application/vnd.jupyter.widget-view+json": {
       "model_id": "5b7f6df6e17241108417e2e950cbcef3",
       "version_major": 2,
       "version_minor": 0
      },
      "text/plain": [
       "Output()"
      ]
     },
     "metadata": {},
     "output_type": "display_data"
    }
   ],
   "source": [
    "\n",
    "import numpy as np\n",
    "import matplotlib.pyplot as plt\n",
    "import ipywidgets as widgets\n",
    "from ipywidgets import HBox, VBox\n",
    "\n",
    "def creep_kv(t, E, eta, sigma0):\n",
    "    tau = eta / E\n",
    "    return (sigma0 / E) * (1 - np.exp(-t / tau))\n",
    "\n",
    "def stress_relaxation_kv(t, E, eta, gamma0):\n",
    "    return np.ones_like(t) * E * gamma0\n",
    "\n",
    "# Sliders (two-column layout)\n",
    "E_slider = widgets.FloatLogSlider(value=1e5, base=10, min=3, max=7, step=0.1, description='E [Pa]')\n",
    "eta_slider = widgets.FloatLogSlider(value=1e6, base=10, min=4, max=8, step=0.1, description='η [Pa·s]')\n",
    "sigma0_slider = widgets.FloatSlider(value=100, min=10, max=1000, step=10, description='σ₀ [Pa]')\n",
    "gamma0_slider = widgets.FloatSlider(value=0.01, min=0.001, max=0.1, step=0.001, description='γ₀')\n",
    "tmax_slider = widgets.FloatLogSlider(value=10, base=10, min=-2, max=4, step=0.1, description='t_max [s]')\n",
    "\n",
    "ui_left = VBox([E_slider, eta_slider, sigma0_slider])\n",
    "ui_right = VBox([gamma0_slider, tmax_slider])\n",
    "ui = HBox([ui_left, ui_right])\n",
    "\n",
    "def plot_kelvin_voigt(E, eta, sigma0, gamma0, tmax):\n",
    "    tau = eta / E\n",
    "    t = np.linspace(0, tmax, 400)\n",
    "\n",
    "    gamma_creep = creep_kv(t, E, eta, sigma0)\n",
    "    sigma_relax = stress_relaxation_kv(t, E, eta, gamma0)\n",
    "\n",
    "    fig, ax = plt.subplots(1, 2, figsize=(10, 4))\n",
    "\n",
    "    ax[0].plot(t, gamma_creep, lw=2, label='Kelvin–Voigt')\n",
    "    ax[0].set_title('Creep')\n",
    "    ax[0].set_xlabel('Time [s]')\n",
    "    ax[0].set_ylabel('Strain γ [-]')\n",
    "    ax[0].grid(True)\n",
    "    ax[0].legend()\n",
    "\n",
    "    ax[1].plot(t, sigma_relax, lw=2, label='Kelvin–Voigt')\n",
    "    ax[1].set_title('Stress Relaxation')\n",
    "    ax[1].set_xlabel('Time [s]')\n",
    "    ax[1].set_ylabel('Stress σ [Pa]')\n",
    "    ax[1].grid(True)\n",
    "    ax[1].legend()\n",
    "\n",
    "    plt.tight_layout()\n",
    "    plt.show()\n",
    "\n",
    "    print(f\"Characteristic time τ = {tau:.3g} s\")\n",
    "\n",
    "out = widgets.interactive_output(\n",
    "    plot_kelvin_voigt,\n",
    "    {'E': E_slider, 'eta': eta_slider, 'sigma0': sigma0_slider, 'gamma0': gamma0_slider, 'tmax': tmax_slider}\n",
    ")\n",
    "\n",
    "display(ui, out)\n"
   ]
  },
  {
   "cell_type": "markdown",
   "metadata": {},
   "source": [
    "\n",
    "---\n",
    "\n",
    "## 👩‍🏫 Teacher Information (Kelvin–Voigt)\n",
    "\n",
    "**Purpose.** Explore bounded creep and lack of stress relaxation with the Kelvin–Voigt model (parallel spring–dashpot).  \n",
    "**Key relation.** $ \\tau = \\eta / E $. Larger $ \\tau $ → slower approach to equilibrium in creep.\n",
    "\n",
    "**Use in class.**\n",
    "1. Open in Colab → *Run all*.\n",
    "2. Vary $E$, $\\eta$, $\\sigma_0$, $\\gamma_0$; observe:\n",
    "   - Creep: asymptotic approach to $\\sigma_0/E$.\n",
    "   - Stress under step strain: constant $E\\gamma_0$.\n",
    "3. Compare with Maxwell: fluid-like vs solid-like behavior.\n"
   ]
  },
  {
   "cell_type": "code",
   "execution_count": null,
   "metadata": {},
   "outputs": [],
   "source": []
  },
  {
   "cell_type": "code",
   "execution_count": null,
   "metadata": {},
   "outputs": [],
   "source": []
  }
 ],
 "metadata": {
  "kernelspec": {
   "display_name": "Python (uqsa-py311)",
   "language": "python",
   "name": "uqsa-py311"
  },
  "language_info": {
   "codemirror_mode": {
    "name": "ipython",
    "version": 3
   },
   "file_extension": ".py",
   "mimetype": "text/x-python",
   "name": "python",
   "nbconvert_exporter": "python",
   "pygments_lexer": "ipython3",
   "version": "3.11.13"
  }
 },
 "nbformat": 4,
 "nbformat_minor": 4
}
