{
 "cells": [
  {
   "cell_type": "markdown",
   "metadata": {},
   "source": [
    "\n",
    "# Kelvin\u2013Voigt Model \u2014 Viscoelastic Solid (Parallel)\n",
    "\n",
    "The **Kelvin\u2013Voigt model** represents a spring and a dashpot in **parallel** and captures bounded creep and no stress relaxation under a step strain.\n",
    "\n",
    "$$\n",
    "\\sigma = E\\,\\gamma + \\eta\\,\\dot{\\gamma}, \\qquad \\tau = \\frac{\\eta}{E}\n",
    "$$\n",
    "\n",
    "- Under constant stress $ \\sigma_0 $, strain approaches $ \\sigma_0/E $ as $ t \\to \\infty $:  \n",
    "  $$ \\gamma(t) = \\frac{\\sigma_0}{E}\\left(1 - e^{-t/\\tau}\\right) $$\n",
    "- Under constant strain $ \\gamma_0 $, stress is constant: $ \\sigma(t) = E\\,\\gamma_0 $.\n"
   ]
  },
  {
   "cell_type": "code",
   "execution_count": 2,
   "metadata": {},
   "outputs": [
    {
     "data": {
      "application/vnd.jupyter.widget-view+json": {
       "model_id": "3a8e588745c245edb139dc19af6a6abc",
       "version_major": 2,
       "version_minor": 0
      },
      "text/plain": [
       "HBox(children=(VBox(children=(FloatLogSlider(value=100000.0, description='E [Pa]', max=7.0, min=3.0), FloatLog\u2026"
      ]
     },
     "metadata": {},
     "output_type": "display_data"
    },
    {
     "data": {
      "application/vnd.jupyter.widget-view+json": {
       "model_id": "5b7f6df6e17241108417e2e950cbcef3",
       "version_major": 2,
       "version_minor": 0
      },
      "text/plain": [
       "Output()"
      ]
     },
     "metadata": {},
     "output_type": "display_data"
    }
   ],
   "source": [
    "#@title \u2699\ufe0f Imports and setup (click to expand)\n",
    "\n",
    "import numpy as np\n",
    "import matplotlib.pyplot as plt\n",
    "import ipywidgets as widgets\n",
    "from ipywidgets import HBox, VBox\n",
    "def creep_kv(t, E, eta, sigma0):\n",
    "    tau = eta / E\n",
    "    return (sigma0 / E) * (1 - np.exp(-t / tau))\n",
    "def stress_relaxation_kv(t, E, eta, gamma0):\n",
    "    return np.ones_like(t) * E * gamma0\n",
    "# Sliders (two-column layout)\n",
    "E_slider = widgets.FloatLogSlider(value=1e5, base=10, min=3, max=7, step=0.1, description='E [Pa]')\n",
    "eta_slider = widgets.FloatLogSlider(value=1e6, base=10, min=4, max=8, step=0.1, description='\u03b7 [Pa\u00b7s]')\n",
    "sigma0_slider = widgets.FloatSlider(value=100, min=10, max=1000, step=10, description='\u03c3\u2080 [Pa]')\n",
    "gamma0_slider = widgets.FloatSlider(value=0.01, min=0.001, max=0.1, step=0.001, description='\u03b3\u2080')\n",
    "tmax_slider = widgets.FloatLogSlider(value=10, base=10, min=-2, max=4, step=0.1, description='t_max [s]')\n",
    "ui_left = VBox([E_slider, eta_slider, sigma0_slider])\n",
    "ui_right = VBox([gamma0_slider, tmax_slider])\n",
    "ui = HBox([ui_left, ui_right])\n",
    "def plot_kelvin_voigt(E, eta, sigma0, gamma0, tmax):\n",
    "    tau = eta / E\n",
    "    t = np.linspace(0, tmax, 400)\n",
    "    gamma_creep = creep_kv(t, E, eta, sigma0)\n",
    "    sigma_relax = stress_relaxation_kv(t, E, eta, gamma0)\n",
    "    fig, ax = plt.subplots(1, 2, figsize=(10, 4))\n",
    "    ax[0].plot(t, gamma_creep, lw=2, label='Kelvin\u2013Voigt')\n",
    "    ax[0].set_title('Creep')\n",
    "    ax[0].set_xlabel('Time [s]')\n",
    "    ax[0].set_ylabel('Strain \u03b3 [-]')\n",
    "    ax[0].grid(True)\n",
    "    ax[0].legend()\n",
    "    ax[1].plot(t, sigma_relax, lw=2, label='Kelvin\u2013Voigt')\n",
    "    ax[1].set_title('Stress Relaxation')\n",
    "    ax[1].set_xlabel('Time [s]')\n",
    "    ax[1].set_ylabel('Stress \u03c3 [Pa]')\n",
    "    ax[1].grid(True)\n",
    "    ax[1].legend()\n",
    "    plt.tight_layout()\n",
    "    plt.show()\n",
    "    print(f\"Characteristic time \u03c4 = {tau:.3g} s\")\n",
    "out = widgets.interactive_output(\n",
    "    plot_kelvin_voigt,\n",
    "    {'E': E_slider, 'eta': eta_slider, 'sigma0': sigma0_slider, 'gamma0': gamma0_slider, 'tmax': tmax_slider}\n",
    ")\n",
    "display(ui, out)\n"
   ]
  },
  {
   "cell_type": "markdown",
   "metadata": {},
   "source": [
    "\n",
    "---\n",
    "\n",
    "## \ud83d\udc69\u200d\ud83c\udfeb Teacher Information (Kelvin\u2013Voigt)\n",
    "\n",
    "**Purpose.** Explore bounded creep and lack of stress relaxation with the Kelvin\u2013Voigt model (parallel spring\u2013dashpot).  \n",
    "**Key relation.** $ \\tau = \\eta / E $. Larger $ \\tau $ \u2192 slower approach to equilibrium in creep.\n",
    "\n",
    "**Use in class.**\n",
    "1. Open in Colab \u2192 *Run all*.\n",
    "2. Vary $E$, $\\eta$, $\\sigma_0$, $\\gamma_0$; observe:\n",
    "   - Creep: asymptotic approach to $\\sigma_0/E$.\n",
    "   - Stress under step strain: constant $E\\gamma_0$.\n",
    "3. Compare with Maxwell: fluid-like vs solid-like behavior.\n"
   ]
  },
  {
   "cell_type": "code",
   "execution_count": null,
   "metadata": {},
   "outputs": [],
   "source": [
    "#@title \u2699\ufe0f Code cell (click to expand)\n"
   ]
  },
  {
   "cell_type": "code",
   "execution_count": null,
   "metadata": {},
   "outputs": [],
   "source": [
    "#@title \u2699\ufe0f Code cell (click to expand)\n"
   ]
  }
 ],
 "metadata": {
  "kernelspec": {
   "display_name": "Python 3",
   "language": "python",
   "name": "python3"
  },
  "language_info": {
   "codemirror_mode": {
    "name": "ipython",
    "version": 3
   },
   "file_extension": ".py",
   "mimetype": "text/x-python",
   "name": "python",
   "nbconvert_exporter": "python",
   "pygments_lexer": "ipython3",
   "version": "3.9.6"
  }
 },
 "nbformat": 4,
 "nbformat_minor": 4
}