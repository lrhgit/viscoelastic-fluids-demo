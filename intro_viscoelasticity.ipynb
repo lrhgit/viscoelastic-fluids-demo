# Viscoelastic Fluids — Interactive Models

Welcome!  
This Colab module introduces **linear viscoelastic behavior** through three interactive notebooks:

| Notebook | Description | Open in Colab |
|-----------|--------------|----------------|
| **Maxwell Model** | Spring and dashpot in *series* – stress relaxation and unbounded creep | [![Open In Colab](https://colab.research.google.com/assets/colab-badge.svg)](https://colab.research.google.com/github/lrhgit/viscoelastic-fluids-demo/blob/main/maxwell_model.ipynb) |
| **Kelvin–Voigt Model** | Spring and dashpot in *parallel* – bounded creep, no stress relaxation | [![Open In Colab](https://colab.research.google.com/assets/colab-badge.svg)](https://colab.research.google.com/github/lrhgit/viscoelastic-fluids-demo/blob/main/kelvin_voigt_model.ipynb) |
| **Comparison** | Overlay of Maxwell and Kelvin–Voigt responses under identical conditions | [![Open In Colab](https://colab.research.google.com/assets/colab-badge.svg)](https://colab.research.google.com/github/lrhgit/viscoelastic-fluids-demo/blob/main/comparison.ipynb) |

---

### 🎯 Learning goals
After exploring these notebooks, you should be able to:
- Describe how the Maxwell and Kelvin–Voigt models capture **creep** and **stress relaxation** behavior.
- Identify how the parameters \(E\), \(\eta\), and \(\tau = \eta / E\) affect the time-dependent response.
- Compare how **elastic** and **viscous** components dominate in each regime.

---

### ℹ️ How to work with this module
- Click any **Colab badge** above to launch the corresponding notebook.
- Use *Runtime → Run all* to initialize the interactive plots.
- Collapse or expand code with *View → Show/hide code* (Ctrl/Cmd + M + O).

---

[← Back to GitHub repository](https://github.com/lrhgit/viscoelastic-fluids-demo)