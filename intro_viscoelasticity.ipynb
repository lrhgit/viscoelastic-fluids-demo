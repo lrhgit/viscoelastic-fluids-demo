{
 "cells": [
  {
   "cell_type": "markdown",
   "metadata": {
    "colab_type": "text",
    "id": "view-in-github"
   },
   "source": [
    "<a href=\"https://colab.research.google.com/github/lrhgit/viscoelastic-fluids-demo/blob/main/intro_viscoelasticity.ipynb\" target=\"_parent\"><img src=\"https://colab.research.google.com/assets/colab-badge.svg\" alt=\"Open In Colab\"/></a>"
   ]
  },
  {
   "cell_type": "markdown",
   "metadata": {
    "id": "sFk3B160iehh",
    "jp-MarkdownHeadingCollapsed": true
   },
   "source": [
    "# Viscoelastic Fluids — Interactive Models\n",
    "\n",
    "These interactive notebooks were developed by **Leif Rune Hellevik (NTNU, Faculty of Engineering)**  \n",
    "to support teaching and exploration of **linear viscoelastic behavior** in materials such as polymers and biological tissues.  \n",
    "They form part of a pedagogical module introducing students to **creep**, **stress relaxation**, and **modeling of time-dependent material response** using the classical **Maxwell** and **Kelvin–Voigt** models.\n",
    "\n",
    "<p align=\"center\" style=\"margin-top: 1em; margin-bottom: 1em;\">\n",
    "    <img src=\"figures/maxwell_model.png\" alt=\"Maxwell model\" width=\"45%\" style=\"margin-right: 2%;\">\n",
    "    <img src=\"figures/kelvin_voigt_model.png\" alt=\"Kelvin–Voigt model\" width=\"45%\">\n",
    "</p>\n",
    "\n",
    "<p align=\"center\">\n",
    "  <em>\n",
    "    Figure 1. Maxwell model (spring and dashpot in series) — \n",
    "    and Kelvin–Voigt model (spring and dashpot in parallel).\n",
    "  </em>\n",
    "</p>\n",
    "\n",
    "All notebooks are designed for use directly in **Google Colab** and **JupyterLab**, with interactive sliders for material parameters.  \n",
    "They can be freely reused for teaching and learning purposes with appropriate attribution.\n",
    "\n",
    "| Notebook | Description | Open in Colab |\n",
    "|-----------|--------------|----------------|\n",
    "| **Maxwell Model** | Spring and dashpot in *series* – stress relaxation and unbounded creep | [![Open In Colab](https://colab.research.google.com/assets/colab-badge.svg)](https://colab.research.google.com/github/lrhgit/viscoelastic-fluids-demo/blob/main/maxwell_model.ipynb) |\n",
    "| **Kelvin–Voigt Model** | Spring and dashpot in *parallel* – bounded creep, no stress relaxation | [![Open In Colab](https://colab.research.google.com/assets/colab-badge.svg)](https://colab.research.google.com/github/lrhgit/viscoelastic-fluids-demo/blob/main/kelvin_voigt_model.ipynb) |\n",
    "| **Comparison** | Overlay of Maxwell and Kelvin–Voigt responses under identical conditions | [![Open In Colab](https://colab.research.google.com/assets/colab-badge.svg)](https://colab.research.google.com/github/lrhgit/viscoelastic-fluids-demo/blob/main/comparison.ipynb) |\n",
    "\n",
    "---\n",
    "### ℹ️ How to work with this module\n",
    "- Click any **Colab badge** above to launch the corresponding notebook.\n",
    "- Use *Runtime → Run all* to initialize the interactive plots.\n",
    "- Collapse or expand code with *View → Show/hide code* (Ctrl/Cmd + M + O).\n",
    "\n",
    "\n",
    "### 🎯 Learning goals\n",
    "After exploring these notebooks, you should be able to:\n",
    "- Describe how the Maxwell and Kelvin–Voigt models capture **creep** and **stress relaxation** behavior.\n",
    "- Identify how the parameters \\(E\\), \\(\\eta\\), and \\(\\tau = \\eta / E\\) affect the time-dependent response.\n",
    "- Compare how **elastic** and **viscous** components dominate in each regime.\n",
    "\n",
    "[← Back to GitHub repository](https://github.com/lrhgit/viscoelastic-fluids-demo)"
   ]
  },
  {
   "cell_type": "markdown",
   "metadata": {},
   "source": [
    "<details>\n",
    "<summary><b>👩‍🏫 Teacher note: About Google Colab and scalability (click to expand)</b></summary>\n",
    "\n",
    "**Google Colab** (short for *Colaboratory*) is a free, cloud-based Jupyter notebook environment that runs entirely in the browser.  \n",
    "It allows users to execute Python code interactively without any local installation.\n",
    "\n",
    "When shared with students, each user receives an **independent runtime environment** in Google’s cloud.  \n",
    "Colab scales automatically and is commonly used in MOOCs and university courses with **hundreds of simultaneous users**.\n",
    "\n",
    "**Typical session limits:**\n",
    "- Idle time-out ≈ **90 minutes**\n",
    "- Maximum session length ≈ **12 hours**\n",
    "\n",
    "If a session times out, students can simply re-open or re-run the notebook.  \n",
    "For personal copies, they can use *File → Save a copy in Drive*.\n",
    "\n",
    "Reference: [Google Colab FAQ](https://research.google.com/colaboratory/faq.html)\n",
    "</details>"
   ]
  },
  {
   "cell_type": "markdown",
   "metadata": {},
   "source": [
    "<details>\n",
    "<summary><b>© License and Citation (click to expand)</b></summary>\n",
    "\n",
    "This work is shared under a **Creative Commons Attribution 4.0 International (CC BY 4.0)** license.  \n",
    "You are free to copy, share, and adapt the material for any purpose, provided that proper credit is given.\n",
    "\n",
    "**Suggested citation:**  \n",
    "> Hellevik, L.R. (2025). *Viscoelastic Fluids Demos – Interactive Colab notebooks for teaching linear viscoelasticity.*  \n",
    "> Norwegian University of Science and Technology (NTNU).  \n",
    "> Available at: [https://github.com/lrhgit/viscoelastic-fluids-demo](https://github.com/lrhgit/viscoelastic-fluids-demo)\n",
    "\n",
    "**Repository:** [github.com/lrhgit/viscoelastic-fluids-demo](https://github.com/lrhgit/viscoelastic-fluids-demo)\n",
    "</details>"
   ]
  }
 ],
 "metadata": {
  "colab": {
   "authorship_tag": "ABX9TyPwJPgV8XterYXb6xcRbAn7",
   "include_colab_link": true,
   "provenance": []
  },
  "kernelspec": {
   "display_name": "Python 3 (ipykernel)",
   "language": "python",
   "name": "python3"
  },
  "language_info": {
   "codemirror_mode": {
    "name": "ipython",
    "version": 3
   },
   "file_extension": ".py",
   "mimetype": "text/x-python",
   "name": "python",
   "nbconvert_exporter": "python",
   "pygments_lexer": "ipython3",
   "version": "3.9.6"
  }
 },
 "nbformat": 4,
 "nbformat_minor": 4
}
