{
 "cells": [
  {
   "cell_type": "markdown",
   "metadata": {
    "colab_type": "text",
    "id": "view-in-github"
   },
   "source": [
    "<a href=\"https://colab.research.google.com/github/lrhgit/viscoelastic-fluids-demo/blob/main/intro_viscoelasticity.ipynb\" target=\"_parent\"><img src=\"https://colab.research.google.com/assets/colab-badge.svg\" alt=\"Open In Colab\"/></a>"
   ]
  },
  {
   "cell_type": "markdown",
   "metadata": {
    "id": "sFk3B160iehh"
   },
   "source": [
    "# Viscoelastic Fluids — Interactive Models\n",
    "\n",
    "These interactive notebooks were developed by **Leif Rune Hellevik (NTNU, Faculty of Engineering)**  \n",
    "to support teaching and exploration of **linear viscoelastic behavior** in materials such as polymers and biological tissues.  \n",
    "They form part of a pedagogical module introducing students to **creep**, **stress relaxation**, and **modeling of time-dependent material response** using the classical **Maxwell** and **Kelvin–Voigt** models.\n",
    "\n",
    "All notebooks are designed for use directly in **Google Colab** and **JupyterLab**, with interactive sliders for material parameters.  \n",
    "They can be freely reused for teaching and learning purposes with appropriate attribution.\n",
    "\n",
    "| Notebook | Description | Open in Colab |\n",
    "|-----------|--------------|----------------|\n",
    "| **Maxwell Model** | Spring and dashpot in *series* – stress relaxation and unbounded creep | [![Open In Colab](https://colab.research.google.com/assets/colab-badge.svg)](https://colab.research.google.com/github/lrhgit/viscoelastic-fluids-demo/blob/main/maxwell_model.ipynb) |\n",
    "| **Kelvin–Voigt Model** | Spring and dashpot in *parallel* – bounded creep, no stress relaxation | [![Open In Colab](https://colab.research.google.com/assets/colab-badge.svg)](https://colab.research.google.com/github/lrhgit/viscoelastic-fluids-demo/blob/main/kelvin_voigt_model.ipynb) |\n",
    "| **Comparison** | Overlay of Maxwell and Kelvin–Voigt responses under identical conditions | [![Open In Colab](https://colab.research.google.com/assets/colab-badge.svg)](https://colab.research.google.com/github/lrhgit/viscoelastic-fluids-demo/blob/main/comparison.ipynb) |\n",
    "\n",
    "---\n",
    "\n",
    "### 🎯 Learning goals\n",
    "After exploring these notebooks, you should be able to:\n",
    "- Describe how the Maxwell and Kelvin–Voigt models capture **creep** and **stress relaxation** behavior.\n",
    "- Identify how the parameters \\(E\\), \\(\\eta\\), and \\(\\tau = \\eta / E\\) affect the time-dependent response.\n",
    "- Compare how **elastic** and **viscous** components dominate in each regime.\n",
    "\n",
    "---\n",
    "\n",
    "### ℹ️ How to work with this module\n",
    "- Click any **Colab badge** above to launch the corresponding notebook.\n",
    "- Use *Runtime → Run all* to initialize the interactive plots.\n",
    "- Collapse or expand code with *View → Show/hide code* (Ctrl/Cmd + M + O).\n",
    "\n",
    "\n",
    "\n",
    "\n",
    "---\n",
    "\n",
    "[← Back to GitHub repository](https://github.com/lrhgit/viscoelastic-fluids-demo)"
   ]
  },
  {
   "cell_type": "code",
   "execution_count": null,
   "metadata": {},
   "outputs": [],
   "source": []
  },
  {
   "cell_type": "code",
   "execution_count": null,
   "metadata": {},
   "outputs": [],
   "source": []
  }
 ],
 "metadata": {
  "colab": {
   "authorship_tag": "ABX9TyPwJPgV8XterYXb6xcRbAn7",
   "include_colab_link": true,
   "provenance": []
  },
  "kernelspec": {
   "display_name": "Python 3 (ipykernel)",
   "language": "python",
   "name": "python3"
  },
  "language_info": {
   "codemirror_mode": {
    "name": "ipython",
    "version": 3
   },
   "file_extension": ".py",
   "mimetype": "text/x-python",
   "name": "python",
   "nbconvert_exporter": "python",
   "pygments_lexer": "ipython3",
   "version": "3.9.6"
  }
 },
 "nbformat": 4,
 "nbformat_minor": 4
}
