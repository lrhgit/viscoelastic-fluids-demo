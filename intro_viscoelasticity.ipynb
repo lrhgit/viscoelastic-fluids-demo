{
  "nbformat": 4,
  "nbformat_minor": 0,
  "metadata": {
    "colab": {
      "provenance": [],
      "authorship_tag": "ABX9TyPwJPgV8XterYXb6xcRbAn7",
      "include_colab_link": true
    },
    "kernelspec": {
      "name": "python3",
      "display_name": "Python 3"
    },
    "language_info": {
      "name": "python"
    }
  },
  "cells": [
    {
      "cell_type": "markdown",
      "metadata": {
        "id": "view-in-github",
        "colab_type": "text"
      },
      "source": [
        "<a href=\"https://colab.research.google.com/github/lrhgit/viscoelastic-fluids-demo/blob/main/intro_viscoelasticity.ipynb\" target=\"_parent\"><img src=\"https://colab.research.google.com/assets/colab-badge.svg\" alt=\"Open In Colab\"/></a>"
      ]
    },
    {
      "cell_type": "markdown",
      "source": [
        "# Viscoelastic Fluids — Interactive Models\n",
        "\n",
        "Welcome!  \n",
        "This Colab module introduces **linear viscoelastic behavior** through three interactive notebooks:\n",
        "\n",
        "| Notebook | Description | Open in Colab |\n",
        "|-----------|--------------|----------------|\n",
        "| **Maxwell Model** | Spring and dashpot in *series* – stress relaxation and unbounded creep | [![Open In Colab](https://colab.research.google.com/assets/colab-badge.svg)](https://colab.research.google.com/github/lrhgit/viscoelastic-fluids-demo/blob/main/maxwell_model.ipynb) |\n",
        "| **Kelvin–Voigt Model** | Spring and dashpot in *parallel* – bounded creep, no stress relaxation | [![Open In Colab](https://colab.research.google.com/assets/colab-badge.svg)](https://colab.research.google.com/github/lrhgit/viscoelastic-fluids-demo/blob/main/kelvin_voigt_model.ipynb) |\n",
        "| **Comparison** | Overlay of Maxwell and Kelvin–Voigt responses under identical conditions | [![Open In Colab](https://colab.research.google.com/assets/colab-badge.svg)](https://colab.research.google.com/github/lrhgit/viscoelastic-fluids-demo/blob/main/comparison.ipynb) |\n",
        "\n",
        "---\n",
        "\n",
        "### 🎯 Learning goals\n",
        "After exploring these notebooks, you should be able to:\n",
        "- Describe how the Maxwell and Kelvin–Voigt models capture **creep** and **stress relaxation** behavior.\n",
        "- Identify how the parameters \\(E\\), \\(\\eta\\), and \\(\\tau = \\eta / E\\) affect the time-dependent response.\n",
        "- Compare how **elastic** and **viscous** components dominate in each regime.\n",
        "\n",
        "---\n",
        "\n",
        "### ℹ️ How to work with this module\n",
        "- Click any **Colab badge** above to launch the corresponding notebook.\n",
        "- Use *Runtime → Run all* to initialize the interactive plots.\n",
        "- Collapse or expand code with *View → Show/hide code* (Ctrl/Cmd + M + O).\n",
        "\n",
        "---\n",
        "\n",
        "[← Back to GitHub repository](https://github.com/lrhgit/viscoelastic-fluids-demo)"
      ],
      "metadata": {
        "id": "sFk3B160iehh"
      }
    }
  ]
}