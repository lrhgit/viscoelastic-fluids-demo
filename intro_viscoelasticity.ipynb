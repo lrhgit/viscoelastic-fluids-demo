{
 "cells": [
  {
   "cell_type": "markdown",
   "metadata": {
    "colab_type": "text",
    "id": "view-in-github"
   },
   "source": [
    "<a href=\"https://colab.research.google.com/github/lrhgit/viscoelastic-fluids-demo/blob/main/intro_viscoelasticity.ipynb\" target=\"_parent\"><img src=\"https://colab.research.google.com/assets/colab-badge.svg\" alt=\"Open In Colab\"/></a>"
   ]
  },
  {
   "cell_type": "markdown",
   "metadata": {
    "id": "sFk3B160iehh"
   },
   "source": [
    "# Viscoelastic Fluids — Interactive Models\n",
    "\n",
    "These interactive notebooks were developed by **Leif Rune Hellevik (NTNU, Faculty of Engineering)**  \n",
    "to support teaching and exploration of **linear viscoelastic behavior** in materials such as polymers and biological tissues.  \n",
    "They form part of a pedagogical module introducing students to **creep**, **stress relaxation**, and **modeling of time-dependent material response** using the classical **Maxwell** and **Kelvin–Voigt** models.\n",
    "\n",
    "All notebooks are designed for use directly in **Google Colab** and **JupyterLab**, with interactive sliders for material parameters.  \n",
    "They can be freely reused for teaching and learning purposes with appropriate attribution.\n",
    "\n",
    "| Notebook | Description | Open in Colab |\n",
    "|-----------|--------------|----------------|\n",
    "| **Maxwell Model** | Spring + dashpot in *series* – stress relaxation and unbounded creep | [![Open In Colab](https://colab.research.google.com/assets/colab-badge.svg)](https://colab.research.google.com/github/lrhgit/viscoelastic-fluids-demo/blob/main/maxwell_model.ipynb) |\n",
    "| **Kelvin–Voigt Model** | Spring + dashpot in *parallel* – bounded creep, no stress relaxation | [![Open In Colab](https://colab.research.google.com/assets/colab-badge.svg)](https://colab.research.google.com/github/lrhgit/viscoelastic-fluids-demo/blob/main/kelvin_voigt_model.ipynb) |\n",
    "| **Comparison** | Overlay of Maxwell and Kelvin–Voigt responses under identical conditions | [![Open In Colab](https://colab.research.google.com/assets/colab-badge.svg)](https://colab.research.google.com/github/lrhgit/viscoelastic-fluids-demo/blob/main/comparison.ipynb) |\n",
    "\n",
    "---\n",
    "\n",
    "## 🧩 Introduction\n",
    "\n",
    "In these notebooks, we focus on a subclass of material models known as **viscoelastic models**.  \n",
    "Material models describe how **stresses** (forces) relate to **deformation** —  \n",
    "for solids, this means strain, and for fluids, the *rate* of deformation.\n",
    "\n",
    "The term *viscoelastic* is used because such materials exhibit both  \n",
    "**solid-like (elastic)** and **fluid-like (viscous)** behavior.\n",
    "\n",
    "To capture this dual nature, we combine two fundamental mechanical elements:\n",
    "\n",
    "### 🪧 Elastic spring\n",
    "Represents the **solid-like** response:\n",
    "- Stress and deformation (strain) are related by the **elastic modulus** $E$.  \n",
    "- The magnitude of $E$ characterizes stiffness:  \n",
    "  - **High** $\\mathbf{E}$ → stiff material  \n",
    "  - **Low** $\\mathbf{E}$ → soft material  \n",
    "- No explicit time dependence — deformation occurs *instantaneously* when stress is applied.  \n",
    "- Typically used to model **ideal solids**.\n",
    "\n",
    "### 💧 Dashpot\n",
    "Represents the **fluid-like** response:\n",
    "- Stress and *strain-rate* are related by the **viscosity** $\\eta$.  \n",
    "- Explicitly time-dependent: stress depends on how fast deformation occurs.  \n",
    "- The magnitude of $\\eta$ characterizes flow resistance:  \n",
    "  - **High** $\\boldsymbol{\\eta}$ → very viscous (thick) fluid  \n",
    "  - **Low** $\\boldsymbol{\\eta}$ → less viscous (runny) fluid  \n",
    "- Typically used to model **ideal fluids**.\n",
    "\n",
    "By combining springs and dashpots, we obtain the **viscoelastic models** studied here —  \n",
    "the **Maxwell** and **Kelvin–Voigt** models — which represent two simple yet powerful ways of linking  \n",
    "elastic and viscous behavior.\n",
    "\n",
    "<p align=\"center\" style=\"margin-top: 1em; margin-bottom: 1em;\">\n",
    "  <img src=\"figures/maxwell_model.png\" alt=\"Maxwell model\" width=\"45%\" style=\"margin-right: 2%;\">\n",
    "  <img src=\"figures/kelvin_voigt_model.png\" alt=\"Kelvin–Voigt model\" width=\"45%\">\n",
    "</p>\n",
    "\n",
    "<p align=\"center\">\n",
    "  <em>\n",
    "    Figure 1. Maxwell model (spring + dashpot in series) and Kelvin–Voigt model (spring + dashpot in parallel).\n",
    "  </em>\n",
    "</p>\n",
    "\n",
    "---\n",
    "\n",
    "### ℹ️ How to work with this module\n",
    "- Click any **Colab badge** above to launch the corresponding notebook.  \n",
    "- Use *Runtime → Run all* to initialize the interactive plots.  \n",
    "- Collapse or expand code with *View → Show/hide code* (`Ctrl/Cmd + M + O`).\n",
    "\n",
    "### 🎯 Learning goals\n",
    "After exploring these notebooks, you should be able to:\n",
    "- Explain how the Maxwell and Kelvin–Voigt models capture **creep** and **stress-relaxation**.  \n",
    "- Identify how the parameters $E$, $\\eta$, and $\\tau = \\eta / E$ affect the time-dependent response.  \n",
    "- Compare how **elastic** and **viscous** components dominate in different regimes."
   ]
  },
  {
   "cell_type": "markdown",
   "metadata": {
    "jp-MarkdownHeadingCollapsed": true
   },
   "source": [
    "<details>\n",
    "<summary><b> 📘 About Colab notebooks (click to expand)</b></summary>\n",
    "\n",
    "## 📘 About the notebooks in Google Colab\n",
    "These notebooks run in **Google Colab**, an interactive environment that combines  \n",
    "💻 code + 🧮 equations + 📊 plots + 📝 text — all in one place.  \n",
    "They are based on the **Jupyter Notebook** format and run directly in your browser —  \n",
    "no installation needed.\n",
    "\n",
    "---\n",
    "\n",
    "### 🎯 Purpose\n",
    "Colab notebooks let you:\n",
    "- explore models and equations *interactively*,  \n",
    "- link theory with live simulations, and  \n",
    "- reproduce and share results easily (via Google Drive or GitHub).\n",
    "\n",
    "---\n",
    "\n",
    "### 💡 Added value\n",
    "Compared to static lecture slides, these notebooks make the theory **come alive**:  \n",
    "you can adjust parameters, visualize the response instantly,  \n",
    "and develop an intuitive understanding of viscoelastic behavior."
   ]
  },
  {
   "cell_type": "markdown",
   "metadata": {},
   "source": [
    "<details>\n",
    "<summary><b>👩‍🏫 Teacher note: About Google Colab and scalability (click to expand)</b></summary>\n",
    "\n",
    "**Google Colab** (short for *Colaboratory*) is a free, cloud-based Jupyter notebook environment that runs entirely in the browser.  \n",
    "It allows users to execute Python code interactively without any local installation.\n",
    "\n",
    "When shared with students, each user receives an **independent runtime environment** in Google’s cloud.  \n",
    "Colab scales automatically and is commonly used in MOOCs and university courses with **hundreds of simultaneous users**.\n",
    "\n",
    "**Typical session limits:**\n",
    "- Idle time-out ≈ **90 minutes**\n",
    "- Maximum session length ≈ **12 hours**\n",
    "\n",
    "If a session times out, students can simply re-open or re-run the notebook.  \n",
    "For personal copies, they can use *File → Save a copy in Drive*.\n",
    "\n",
    "Reference: [Google Colab FAQ](https://research.google.com/colaboratory/faq.html)\n",
    "</details>"
   ]
  },
  {
   "cell_type": "markdown",
   "metadata": {},
   "source": [
    "<details>\n",
    "<summary><b>© License and Citation (click to expand)</b></summary>\n",
    "\n",
    "This work is shared under a **Creative Commons Attribution 4.0 International (CC BY 4.0)** license.  \n",
    "You are free to copy, share, and adapt the material for any purpose, provided that proper credit is given.\n",
    "\n",
    "**Suggested citation:**  \n",
    "> Hellevik, L.R. (2025). *Viscoelastic Fluids Demos – Interactive Colab notebooks for teaching linear viscoelasticity.*  \n",
    "> Norwegian University of Science and Technology (NTNU).  \n",
    "> Available at: [https://github.com/lrhgit/viscoelastic-fluids-demo](https://github.com/lrhgit/viscoelastic-fluids-demo)\n",
    "\n",
    "**Repository:** [github.com/lrhgit/viscoelastic-fluids-demo](https://github.com/lrhgit/viscoelastic-fluids-demo)\n",
    "</details>"
   ]
  },
  {
   "cell_type": "markdown",
   "metadata": {},
   "source": [
    "[← Back to GitHub repository](https://github.com/lrhgit/viscoelastic-fluids-demo)"
   ]
  },
  {
   "cell_type": "code",
   "execution_count": null,
   "metadata": {},
   "outputs": [],
   "source": []
  }
 ],
 "metadata": {
  "colab": {
   "authorship_tag": "ABX9TyPwJPgV8XterYXb6xcRbAn7",
   "include_colab_link": true,
   "provenance": []
  },
  "kernelspec": {
   "display_name": "Python 3 (ipykernel)",
   "language": "python",
   "name": "python3"
  },
  "language_info": {
   "codemirror_mode": {
    "name": "ipython",
    "version": 3
   },
   "file_extension": ".py",
   "mimetype": "text/x-python",
   "name": "python",
   "nbconvert_exporter": "python",
   "pygments_lexer": "ipython3",
   "version": "3.9.6"
  }
 },
 "nbformat": 4,
 "nbformat_minor": 4
}
