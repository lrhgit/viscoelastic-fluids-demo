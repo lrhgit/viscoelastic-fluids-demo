{
 "cells": [
  {
   "cell_type": "code",
   "execution_count": 3,
   "metadata": {},
   "outputs": [
    {
     "data": {
      "text/html": [
       "\n",
       "<script>\n",
       "  function toggleCodeCells() {\n",
       "    var codeCells = document.querySelectorAll('div.input');\n",
       "    var anyVisible = Array.from(codeCells).some(c => c.style.display !== 'none');\n",
       "    codeCells.forEach(c => c.style.display = anyVisible ? 'none' : '');\n",
       "  }\n",
       "\n",
       "  // Add toggle button\n",
       "  const button = document.createElement('button');\n",
       "  button.textContent = 'Show/Hide Code';\n",
       "  button.style.position = 'fixed';\n",
       "  button.style.top = '10px';\n",
       "  button.style.right = '10px';\n",
       "  button.style.zIndex = 1000;\n",
       "  button.style.padding = '6px 10px';\n",
       "  button.style.background = '#1976D2';\n",
       "  button.style.color = 'white';\n",
       "  button.style.border = 'none';\n",
       "  button.style.borderRadius = '6px';\n",
       "  button.onclick = toggleCodeCells;\n",
       "  document.body.appendChild(button);\n",
       "\n",
       "  // Hide all code cells (including this one) on load\n",
       "  document.addEventListener('DOMContentLoaded', function() {\n",
       "    var firstCell = document.querySelector('div.input');\n",
       "    if (firstCell) firstCell.style.display = 'none';\n",
       "    toggleCodeCells();\n",
       "  });\n",
       "</script>\n"
      ],
      "text/plain": [
       "<IPython.core.display.HTML object>"
      ]
     },
     "metadata": {},
     "output_type": "display_data"
    }
   ],
   "source": [
    "# Hide all code cells (including this one) and add a toggle button\n",
    "from IPython.display import HTML, display\n",
    "\n",
    "display(HTML('''\n",
    "<script>\n",
    "  function toggleCodeCells() {\n",
    "    var codeCells = document.querySelectorAll('div.input');\n",
    "    var anyVisible = Array.from(codeCells).some(c => c.style.display !== 'none');\n",
    "    codeCells.forEach(c => c.style.display = anyVisible ? 'none' : '');\n",
    "  }\n",
    "\n",
    "  // Add toggle button\n",
    "  const button = document.createElement('button');\n",
    "  button.textContent = 'Show/Hide Code';\n",
    "  button.style.position = 'fixed';\n",
    "  button.style.top = '10px';\n",
    "  button.style.right = '10px';\n",
    "  button.style.zIndex = 1000;\n",
    "  button.style.padding = '6px 10px';\n",
    "  button.style.background = '#1976D2';\n",
    "  button.style.color = 'white';\n",
    "  button.style.border = 'none';\n",
    "  button.style.borderRadius = '6px';\n",
    "  button.onclick = toggleCodeCells;\n",
    "  document.body.appendChild(button);\n",
    "\n",
    "  // Hide all code cells (including this one) on load\n",
    "  document.addEventListener('DOMContentLoaded', function() {\n",
    "    var firstCell = document.querySelector('div.input');\n",
    "    if (firstCell) firstCell.style.display = 'none';\n",
    "    toggleCodeCells();\n",
    "  });\n",
    "</script>\n",
    "'''))\n"
   ]
  },
  {
   "cell_type": "markdown",
   "metadata": {},
   "source": [
    "\n",
    "# Comparison — Maxwell vs Kelvin–Voigt\n",
    "\n",
    "This notebook overlays the **creep** and **stress relaxation** responses of the two classical linear viscoelastic models:\n",
    "- **Maxwell** (series): captures stress relaxation and unbounded creep.\n",
    "- **Kelvin–Voigt** (parallel): captures bounded creep and no stress relaxation under a step strain.\n",
    "\n",
    "All notation is consistent: $E$ (elastic modulus), $ \\eta $ (viscosity), and $ \\tau = \\eta/E $ (characteristic time).\n"
   ]
  },
  {
   "cell_type": "code",
   "execution_count": 2,
   "metadata": {},
   "outputs": [
    {
     "data": {
      "application/vnd.jupyter.widget-view+json": {
       "model_id": "b378237b1b9b42319674d9f6d7c5054d",
       "version_major": 2,
       "version_minor": 0
      },
      "text/plain": [
       "HBox(children=(VBox(children=(FloatLogSlider(value=100000.0, description='E [Pa]', max=7.0, min=3.0), FloatLog…"
      ]
     },
     "metadata": {},
     "output_type": "display_data"
    },
    {
     "data": {
      "application/vnd.jupyter.widget-view+json": {
       "model_id": "780069c6eee249b1932782bde3075460",
       "version_major": 2,
       "version_minor": 0
      },
      "text/plain": [
       "Output()"
      ]
     },
     "metadata": {},
     "output_type": "display_data"
    }
   ],
   "source": [
    "\n",
    "import numpy as np\n",
    "import matplotlib.pyplot as plt\n",
    "import ipywidgets as widgets\n",
    "from ipywidgets import HBox, VBox\n",
    "\n",
    "def stress_relaxation_maxwell(t, E, eta, gamma0):\n",
    "    tau = eta / E\n",
    "    return E * gamma0 * np.exp(-t / tau)\n",
    "\n",
    "def creep_maxwell(t, E, eta, sigma0):\n",
    "    return sigma0 / E + (sigma0 / eta) * t\n",
    "\n",
    "def creep_kv(t, E, eta, sigma0):\n",
    "    tau = eta / E\n",
    "    return (sigma0 / E) * (1 - np.exp(-t / tau))\n",
    "\n",
    "def stress_relaxation_kv(t, E, eta, gamma0):\n",
    "    return np.ones_like(t) * E * gamma0\n",
    "\n",
    "# Sliders (two columns)\n",
    "E_slider = widgets.FloatLogSlider(value=1e5, base=10, min=3, max=7, step=0.1, description='E [Pa]')\n",
    "eta_slider = widgets.FloatLogSlider(value=1e6, base=10, min=4, max=8, step=0.1, description='η [Pa·s]')\n",
    "sigma0_slider = widgets.FloatSlider(value=100, min=10, max=1000, step=10, description='σ₀ [Pa]')\n",
    "gamma0_slider = widgets.FloatSlider(value=0.01, min=0.001, max=0.1, step=0.001, description='γ₀')\n",
    "T_slider = widgets.FloatLogSlider(value=10, base=10, min=-1, max=3, step=0.1, description='T_process [s]')\n",
    "tmax_slider = widgets.FloatLogSlider(value=10, base=10, min=-2, max=4, step=0.1, description='t_max [s]')\n",
    "\n",
    "ui_left = VBox([E_slider, eta_slider, sigma0_slider])\n",
    "ui_right = VBox([gamma0_slider, T_slider, tmax_slider])\n",
    "ui = HBox([ui_left, ui_right])\n",
    "\n",
    "def plot_comparison(E, eta, sigma0, gamma0, T_process, tmax):\n",
    "    tau = eta / E\n",
    "    De = tau / T_process\n",
    "    t = np.linspace(0, tmax, 400)\n",
    "\n",
    "    # Creep\n",
    "    gamma_M = creep_maxwell(t, E, eta, sigma0)\n",
    "    gamma_KV = creep_kv(t, E, eta, sigma0)\n",
    "\n",
    "    # Stress relaxation\n",
    "    sigma_M = stress_relaxation_maxwell(t, E, eta, gamma0)\n",
    "    sigma_KV = stress_relaxation_kv(t, E, eta, gamma0)\n",
    "\n",
    "    fig, ax = plt.subplots(1, 2, figsize=(10, 4))\n",
    "\n",
    "    # Left: creep (overlay)\n",
    "    ax[0].plot(t, gamma_M, lw=2, label='Maxwell')\n",
    "    ax[0].plot(t, gamma_KV, lw=2, label='Kelvin–Voigt')\n",
    "    ax[0].set_title('Creep — Overlay')\n",
    "    ax[0].set_xlabel('Time [s]')\n",
    "    ax[0].set_ylabel('Strain γ [-]')\n",
    "    ax[0].grid(True)\n",
    "    ax[0].legend()\n",
    "\n",
    "    # Right: stress relaxation (overlay)\n",
    "    ax[1].plot(t, sigma_M, lw=2, label='Maxwell')\n",
    "    ax[1].plot(t, sigma_KV, lw=2, label='Kelvin–Voigt')\n",
    "    ax[1].set_title('Stress Relaxation — Overlay')\n",
    "    ax[1].set_xlabel('Time [s]')\n",
    "    ax[1].set_ylabel('Stress σ [Pa]')\n",
    "    ax[1].grid(True)\n",
    "    ax[1].legend()\n",
    "\n",
    "    plt.tight_layout()\n",
    "    plt.show()\n",
    "\n",
    "    print(f\"τ = {tau:.3g} s  |  De = {De:.3g}\")\n",
    "\n",
    "out = widgets.interactive_output(\n",
    "    plot_comparison,\n",
    "    {'E': E_slider, 'eta': eta_slider, 'sigma0': sigma0_slider, 'gamma0': gamma0_slider, 'T_process': T_slider, 'tmax': tmax_slider}\n",
    ")\n",
    "\n",
    "display(ui, out)\n"
   ]
  },
  {
   "cell_type": "markdown",
   "metadata": {},
   "source": [
    "\n",
    "---\n",
    "\n",
    "## Discussion\n",
    "- **Creep:** Maxwell shows linear increase of strain; Kelvin–Voigt approaches a finite limit $\\sigma_0/E$.  \n",
    "- **Stress relaxation:** Maxwell decays exponentially; Kelvin–Voigt stays constant at $E\\gamma_0$.  \n",
    "- The common timescale $ \\tau = \\eta/E $ governs how fast changes occur; compare it to the process time $T_\\text{process}$ via $De=\\tau/T_\\text{process}$.\n"
   ]
  },
  {
   "cell_type": "markdown",
   "metadata": {},
   "source": [
    "\n",
    "---\n",
    "\n",
    "## 👩‍🏫 Teacher Information (Comparison)\n",
    "Use this notebook to **overlay** both models and guide discussion:\n",
    "1. Start with the same $E$ and $\\eta$; vary $\\sigma_0$ and $\\gamma_0$ to see differences in shape.\n",
    "2. Emphasize that both models are *linear* but encode different topology (series vs parallel).\n",
    "3. Connect $ \\tau $ and $ De $ to real processes (e.g., dwell time in a rheometer, loading rate in a test).\n",
    "\n",
    "Tip: ask students to identify parameters where the two models look deceptively similar (short $t_{max}$, small $De$) and where they clearly diverge.\n"
   ]
  }
 ],
 "metadata": {
  "kernelspec": {
   "display_name": "Python (uqsa-py311)",
   "language": "python",
   "name": "uqsa-py311"
  },
  "language_info": {
   "codemirror_mode": {
    "name": "ipython",
    "version": 3
   },
   "file_extension": ".py",
   "mimetype": "text/x-python",
   "name": "python",
   "nbconvert_exporter": "python",
   "pygments_lexer": "ipython3",
   "version": "3.11.13"
  }
 },
 "nbformat": 4,
 "nbformat_minor": 4
}
