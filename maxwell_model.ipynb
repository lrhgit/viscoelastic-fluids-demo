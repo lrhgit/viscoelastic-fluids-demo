{
 "cells": [
  {
   "cell_type": "code",
   "execution_count": 2,
   "id": "8e0a84da-c730-4271-964e-8d2f9655e9fe",
   "metadata": {},
   "outputs": [
    {
     "name": "stdout",
     "output_type": "stream",
     "text": [
      "Running locally – no Colab integration needed\n"
     ]
    }
   ],
   "source": [
    "try:\n",
    "    from google.colab import output\n",
    "    output.enable_custom_widget_manager()\n",
    "    print(\"Running in Google Colab\")\n",
    "except ModuleNotFoundError:\n",
    "    print(\"Running locally – no Colab integration needed\")"
   ]
  },
  {
   "cell_type": "markdown",
   "id": "424af8f7-c57d-4dc0-9a79-b3c29d71e3fa",
   "metadata": {},
   "source": [
    "# A Simple Viscoelastic Fluid: The Maxwell Model\n",
    "\n",
    "Many real materials — such as polymers, biological tissues, and asphalt — exhibit both *elastic* and *viscous* behavior.  \n",
    "To capture this, we use **viscoelastic models** that combine a spring (elastic solid) and a dashpot (viscous fluid).\n",
    "\n",
    "The **Maxwell model** is the simplest such model, consisting of a spring and a dashpot in **series**:\n",
    "\n",
    "$$\n",
    "\\sigma + \\lambda \\dot{\\sigma} = \\eta \\dot{\\gamma}, \\qquad \\lambda = \\frac{\\eta}{G}\n",
    "$$\n",
    "\n",
    "Where:\n",
    "\n",
    "- $ \\sigma $ — shear stress  \n",
    "- $ \\dot{\\gamma} $ — shear rate  \n",
    "- $ G $ — elastic modulus (spring stiffness)  \n",
    "- $ \\eta $ — viscosity (dashpot resistance)  \n",
    "- $ \\lambda = \\eta / G $ — relaxation time"
   ]
  },
  {
   "cell_type": "code",
   "execution_count": 3,
   "id": "9fd4e4a4-ec89-4b88-a2ba-2bb1fd6555c4",
   "metadata": {},
   "outputs": [
    {
     "data": {
      "text/html": [
       "\n",
       "<script>\n",
       "MathJax = {\n",
       "  tex: {\n",
       "    inlineMath: [['$', '$'], ['\\\\(', '\\\\)']],\n",
       "    displayMath: [['$$', '$$'], ['\\\\[', '\\\\]']]\n",
       "  }\n",
       "};\n",
       "</script>\n"
      ],
      "text/plain": [
       "<IPython.core.display.HTML object>"
      ]
     },
     "metadata": {},
     "output_type": "display_data"
    },
    {
     "name": "stdout",
     "output_type": "stream",
     "text": [
      "✅ MathJax rendering enabled for both Jupyter and Colab.\n"
     ]
    }
   ],
   "source": [
    "from IPython.display import display, HTML\n",
    "\n",
    "display(HTML(\"\"\"\n",
    "<script>\n",
    "MathJax = {\n",
    "  tex: {\n",
    "    inlineMath: [['$', '$'], ['\\\\\\\\(', '\\\\\\\\)']],\n",
    "    displayMath: [['$$', '$$'], ['\\\\\\\\[', '\\\\\\\\]']]\n",
    "  }\n",
    "};\n",
    "</script>\n",
    "\"\"\"))\n",
    "print(\"✅ MathJax rendering enabled for both Jupyter and Colab.\")"
   ]
  },
  {
   "cell_type": "markdown",
   "id": "0e259da8-fa73-4a8c-83b6-2ab11f9e243a",
   "metadata": {},
   "source": [
    "## Motivation for Creep and Stress Relaxation Tests\n",
    "\n",
    "| Test | What we do | What we measure | What it tells us |\n",
    "|------|-------------|-----------------|------------------|\n",
    "| **Stress-relaxation** | Apply a sudden constant strain $ \\gamma_0 $ | Observe $ \\sigma(t) $ | Stress decays exponentially → gives relaxation time $ \\lambda $ |\n",
    "| **Creep** | Apply a sudden constant stress $ \\sigma_0 $ | Observe $ \\gamma(t) $ | Elastic jump + linear viscous flow → separates $ G $ and $ \\eta $ |\n",
    "\n",
    "**Analytical solutions**\n",
    "\n",
    "1. **Stress relaxation:**\n",
    "\n",
    "$$\n",
    "\\sigma(t) = G\\,\\gamma_0\\,e^{-t/\\lambda}\n",
    "$$\n",
    "\n",
    "2. **Creep:**\n",
    "\n",
    "$$\n",
    "\\gamma(t) = \\frac{\\sigma_0}{G} + \\frac{\\sigma_0}{\\eta}\\,t\n",
    "$$\n",
    "\n",
    "The characteristic time $ \\lambda = \\eta / G $ governs the transition between elastic and viscous behavior."
   ]
  },
  {
   "cell_type": "code",
   "execution_count": 4,
   "id": "d4bcf930-90f0-4847-aa59-99fb5732491f",
   "metadata": {},
   "outputs": [
    {
     "data": {
      "application/vnd.jupyter.widget-view+json": {
       "model_id": "c25d0902e770410485ebfed606e595ab",
       "version_major": 2,
       "version_minor": 0
      },
      "text/plain": [
       "interactive(children=(FloatLogSlider(value=100000.0, description='G [Pa]', max=7.0, min=3.0), FloatLogSlider(v…"
      ]
     },
     "metadata": {},
     "output_type": "display_data"
    }
   ],
   "source": [
    "# --- INTERACTIVE VISUALIZATION CELL ---\n",
    "\n",
    "import numpy as np\n",
    "import matplotlib.pyplot as plt\n",
    "import ipywidgets as widgets\n",
    "from ipywidgets import interact\n",
    "\n",
    "def stress_relaxation(t, G, eta, gamma0):\n",
    "    lam = eta / G\n",
    "    return G * gamma0 * np.exp(-t / lam)\n",
    "\n",
    "def creep(t, G, eta, sigma0):\n",
    "    return sigma0 / G + (sigma0 / eta) * t\n",
    "\n",
    "@interact(\n",
    "    G=widgets.FloatLogSlider(value=1e5, base=10, min=3, max=7, step=0.1, description='G [Pa]'),\n",
    "    eta=widgets.FloatLogSlider(value=1e6, base=10, min=4, max=8, step=0.1, description='η [Pa·s]'),\n",
    "    gamma0=widgets.FloatSlider(value=0.01, min=0.001, max=0.1, step=0.001, description='γ₀'),\n",
    "    sigma0=widgets.FloatSlider(value=100, min=10, max=1000, step=10, description='σ₀ [Pa]'),\n",
    "    T_process=widgets.FloatLogSlider(value=10, base=10, min=-1, max=3, step=0.1, description='T_process [s]'),\n",
    "    tmax=widgets.FloatLogSlider(value=10, base=10, min=-2, max=4, step=0.1, description='t_max [s]')\n",
    ")\n",
    "def plot_maxwell(G, eta, gamma0, sigma0, T_process, tmax):\n",
    "    lam = eta / G\n",
    "    De = lam / T_process\n",
    "\n",
    "    t = np.linspace(0, tmax, 400)\n",
    "    sigma = stress_relaxation(t, G, eta, gamma0)\n",
    "    gamma = creep(t, G, eta, sigma0)\n",
    "\n",
    "    fig, ax = plt.subplots(1, 2, figsize=(10, 4))\n",
    "    ax[0].plot(t, sigma, 'b', lw=2)\n",
    "    ax[0].set_title('Stress Relaxation')\n",
    "    ax[0].set_xlabel('Time [s]')\n",
    "    ax[0].set_ylabel('Stress σ [Pa]')\n",
    "    ax[0].grid(True)\n",
    "\n",
    "    ax[1].plot(t, gamma, 'r', lw=2)\n",
    "    ax[1].set_title('Creep')\n",
    "    ax[1].set_xlabel('Time [s]')\n",
    "    ax[1].set_ylabel('Strain γ [-]')\n",
    "    ax[1].grid(True)\n",
    "\n",
    "    plt.tight_layout()\n",
    "    plt.show()\n",
    "\n",
    "    print(f\"Relaxation time λ = {lam:.3g} s\")\n",
    "    print(f\"Deborah number De = {De:.3g}\")"
   ]
  },
  {
   "cell_type": "code",
   "execution_count": null,
   "id": "f6db15da-1359-4489-ba7b-4507555d70ff",
   "metadata": {},
   "outputs": [],
   "source": []
  }
 ],
 "metadata": {
  "kernelspec": {
   "display_name": "Python (uqsa-py311)",
   "language": "python",
   "name": "uqsa-py311"
  },
  "language_info": {
   "codemirror_mode": {
    "name": "ipython",
    "version": 3
   },
   "file_extension": ".py",
   "mimetype": "text/x-python",
   "name": "python",
   "nbconvert_exporter": "python",
   "pygments_lexer": "ipython3",
   "version": "3.11.13"
  }
 },
 "nbformat": 4,
 "nbformat_minor": 5
}
