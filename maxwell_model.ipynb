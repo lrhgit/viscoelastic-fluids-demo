{
 "cells": [
  {
   "cell_type": "markdown",
   "metadata": {},
   "source": [
    "[⬅️ Back to Intro Notebook](https://colab.research.google.com/github/lrhgit/viscoelastic-fluids-demo/blob/main/intro_viscoelasticity.ipynb)\n"
   ]
  },
  {
   "cell_type": "markdown",
   "metadata": {},
   "source": [
    "<details>\n",
    "<summary><b>🧭 Features — click to expand</b></summary>\n",
    "\n",
    "This version adds classroom-friendly controls:\n",
    "\n",
    "- **Optional time scaling**: toggle between dimensionless time (*Scale time by* $\\tau$) where the simulation spans $T_{\\text{process}}\\,\\tau$, and **fixed physical time** $T_{\\max}$ in seconds.\n",
    "- **Optional y-axis scaling**: stress axis is **globally fixed** (clear amplitude changes); creep axis is **semi‑fixed** to the current window (uses $t_{\\max}$).\n",
    "- **Three-column layout** for parameters.\n",
    "\n",
    "**Symbols and scales**\n",
    "\n",
    "| Symbol | Meaning | Control |\n",
    "|:--|:--|:--|\n",
    "| $E$ | Elastic modulus | slider |\n",
    "| $\\eta$ | Viscosity | slider |\n",
    "| $\\tau = \\eta/E$ | Relaxation time | computed |\n",
    "| $T_{\\text{process}}$ | Duration in units of $\\tau$ | slider |\n",
    "| $T_{\\max}$ | Absolute max time (seconds) | slider |\n",
    "| $De = 1/T_{\\text{process}}$ | Deborah number | printed |\n",
    "| $\\gamma_0,\\;\\sigma_0$ | Imposed strain / stress | sliders |\n",
    "\n",
    "> 💡 *Tip:* Turn **off** “Scale time by $\\tau$” to compare different materials over the same physical time window.\n",
    "\n",
    "</details>"
   ]
  },
  {
   "cell_type": "markdown",
   "metadata": {},
   "source": [
    "\n",
    "# Maxwell Model — Viscoelastic Fluid (Series)\n",
    "\n",
    "Many real materials — such as polymers, biological tissues, and asphalt — exhibit both *elastic* and *viscous* behavior.  \n",
    "The **Maxwell model** represents a spring and a dashpot in **series** and captures stress relaxation and unbounded creep.\n",
    "\n",
    "<p align=\"center\">\n",
    "    <img src=\"figures/maxwell_model.png\" width=\"450px\"><br>\n",
    "  <em>Figure 1. Maxwell model (spring and dashpot in series)</em>\n",
    "</p>\n",
    "$$\n",
    "\\sigma + \\tau \\dot{\\sigma} = \\eta \\dot{\\gamma}, \\qquad \\tau = \\frac{\\eta}{E}\n",
    "$$\n",
    "\n",
    "Where:  \n",
    "- $ \\sigma $ — shear stress  \n",
    "- $ \\dot{\\gamma} $ — shear rate  \n",
    "- $ E $ — elastic modulus (spring stiffness)  \n",
    "- $ \\eta $ — viscosity (dashpot resistance)  \n",
    "- $ \\tau = \\eta / E $ — relaxation time\n"
   ]
  },
  {
   "cell_type": "markdown",
   "metadata": {},
   "source": [
    "## 🔹 Stress relaxation and creep – Maxwell Model\n"
   ]
  },
  {
   "cell_type": "code",
   "execution_count": 2,
   "metadata": {},
   "outputs": [
    {
     "data": {
      "application/vnd.jupyter.widget-view+json": {
       "model_id": "a7e3f71e32c640fea7131c0d4b75c8d0",
       "version_major": 2,
       "version_minor": 0
      },
      "text/plain": [
       "HBox(children=(VBox(children=(FloatLogSlider(value=10000000.0, description='E [Pa]', max=7.0, min=3.0), FloatL…"
      ]
     },
     "metadata": {},
     "output_type": "display_data"
    },
    {
     "data": {
      "application/vnd.jupyter.widget-view+json": {
       "model_id": "12cdc4a037584cd18c47020ebcf8264c",
       "version_major": 2,
       "version_minor": 0
      },
      "text/plain": [
       "Output()"
      ]
     },
     "metadata": {},
     "output_type": "display_data"
    }
   ],
   "source": [
    "#@title 🎛️ Maxwell model-interactive\n",
    "import matplotlib.pyplot as plt\n",
    "import ipywidgets as widgets\n",
    "from ipywidgets import VBox, HBox\n",
    "import numpy as np\n",
    "\n",
    "# Slider bounds (also used to compute fixed ranges)\n",
    "E_min, E_max       = 1e3, 1e7        # Pa\n",
    "eta_min, eta_max   = 1e4, 1e8        # Pa·s\n",
    "gamma0_min, gamma0_max = 1e-3, 1e-1  # [-]\n",
    "sigma0_min, sigma0_max = 1e-1, 1e3   # Pa\n",
    "Tproc_min, Tproc_max   = 0.1, 20.0   # –\n",
    "Tmax_min, Tmax_max     = 0.1, 1e3    # s\n",
    "\n",
    "# Widgets (three columns)\n",
    "E_slider     = widgets.FloatLogSlider(value=eta_max, base=10, min=np.log10(E_min),   max=np.log10(E_max),   step=0.1, description='E [Pa]')\n",
    "eta_slider   = widgets.FloatLogSlider(value=1e6, base=10, min=np.log10(eta_min), max=np.log10(eta_max), step=0.1, description='η [Pa·s]')\n",
    "\n",
    "gamma0_slider = widgets.FloatLogSlider(value=0.5*gamma0_max, base=10, min=np.log10(gamma0_min), max=np.log10(gamma0_max), step=0.1, description='γ₀ [-]')\n",
    "sigma0_slider = widgets.FloatLogSlider(value=1e1,  base=10, min=np.log10(sigma0_min), max=np.log10(sigma0_max), step=0.1, description='σ₀ [Pa]')\n",
    "\n",
    "Tproc_slider  = widgets.FloatLogSlider(value=5.0, base=10, min=np.log10(Tproc_min), max=np.log10(Tproc_max), step=0.1, description='T_process [–]')\n",
    "Tmax_slider   = widgets.FloatLogSlider(value=10.0, base=10, min=np.log10(Tmax_min),  max=np.log10(Tmax_max),  step=0.1, description='T_max [s]')\n",
    "time_scaled_chk = widgets.Checkbox(value=False, description='Scale time by τ')\n",
    "fixed_yaxis_chk = widgets.Checkbox(value=False, description='Fix y-axis (stress global; creep semi-fixed)')\n",
    "\n",
    "# Global stress y-limit (worst-case)\n",
    "ymax_stress_global = 1.1 * E_max * gamma0_max  # σ_max at t=0 is E*γ0\n",
    "\n",
    "# Model functions\n",
    "def stress_relaxation_maxwell(t, E, eta, gamma0):\n",
    "    tau = eta / E\n",
    "    return E * gamma0 * np.exp(-t / tau)\n",
    "\n",
    "def creep_maxwell(t, E, eta, sigma0):\n",
    "    return sigma0 / E + (sigma0 / eta) * t\n",
    "\n",
    "# Plotting\n",
    "def plot_maxwell(E, eta, gamma0, sigma0, T_process, T_max, time_scaled, fixed_yaxis):\n",
    "    tau = eta / E\n",
    "    t_end = (T_process * tau) if time_scaled else T_max\n",
    "    npts = 400\n",
    "    t = np.linspace(0.0, t_end, npts)\n",
    "\n",
    "    sigma = stress_relaxation_maxwell(t, E, eta, gamma0)\n",
    "    gamma = creep_maxwell(t, E, eta, sigma0)\n",
    "\n",
    "    fig, ax = plt.subplots(1, 2, figsize=(10, 4))\n",
    "\n",
    "    # Stress relaxation\n",
    "    ax[0].plot(t, sigma, lw=2)\n",
    "    ax[0].set_xlabel(\"Time [s]\")\n",
    "    ax[0].set_ylabel(\"Stress σ(t) [Pa]\")\n",
    "    ax[0].set_title(\"Stress relaxation (Maxwell)\")\n",
    "    ax[0].grid(True)\n",
    "    ax[0].set_xlim(0, t_end)\n",
    "    ax0_top = ax[0].secondary_xaxis('top', functions=(lambda x: x/tau if tau>0 else x, lambda x: x*tau if tau>0 else x))\n",
    "    ax0_top.set_xlabel(\"Normalized time t/τ\")\n",
    "\n",
    "    # Creep\n",
    "    ax[1].plot(t, gamma, lw=2)\n",
    "    ax[1].set_xlabel(\"Time [s]\")\n",
    "    ax[1].set_ylabel(\"Strain γ(t) [–]\")\n",
    "    ax[1].set_title(\"Creep (Maxwell)\")\n",
    "    ax[1].grid(True)\n",
    "    ax[1].set_xlim(0, t_end)\n",
    "    ax1_top = ax[1].secondary_xaxis('top', functions=(lambda x: x/tau if tau>0 else x, lambda x: x*tau if tau>0 else x))\n",
    "    ax1_top.set_xlabel(\"Normalized time t/τ\")\n",
    "\n",
    "    # Y-axis handling\n",
    "    if fixed_yaxis:\n",
    "        ax[0].set_ylim(0, ymax_stress_global)                      # fully fixed (global) stress\n",
    "        gamma_max_current = (sigma0 / E) * (1.0 + (t_end / tau))   # semi-fixed creep to current window\n",
    "        ax[1].set_ylim(0, 1.2 * gamma_max_current)\n",
    "    else:\n",
    "        for a in ax:\n",
    "            a.relim(); a.autoscale_view()\n",
    "\n",
    "    plt.tight_layout()\n",
    "    plt.show()\n",
    "\n",
    "    De = 1.0 / T_process\n",
    "    print(f\"τ = {tau:.3g} s   |   De = {De:.3g}\")\n",
    "    if time_scaled:\n",
    "        print(\"⏱️ Time axis scaled by τ (t_end = T_process × τ).\")\n",
    "    else:\n",
    "        print(\"⏱️ Time axis fixed to T_max (absolute seconds).\")\n",
    "    print(\"Top axis shows normalized time t/τ.\")\n",
    "    print(\"💡 In the creep test, γ₀ does not influence the result since the applied stress σ₀ is fixed.\")\n",
    "\n",
    "# 3-column UI layout\n",
    "ui_col1 = VBox([E_slider, eta_slider])\n",
    "ui_col2 = VBox([gamma0_slider, sigma0_slider])\n",
    "ui_col3 = VBox([Tproc_slider, Tmax_slider, time_scaled_chk, fixed_yaxis_chk])\n",
    "controls = HBox([ui_col1, ui_col2, ui_col3])\n",
    "\n",
    "out = widgets.interactive_output(\n",
    "    plot_maxwell,\n",
    "    {\n",
    "        'E': E_slider,\n",
    "        'eta': eta_slider,\n",
    "        'gamma0': gamma0_slider,\n",
    "        'sigma0': sigma0_slider,\n",
    "        'T_process': Tproc_slider,\n",
    "        'T_max': Tmax_slider,\n",
    "        'time_scaled': time_scaled_chk,\n",
    "        'fixed_yaxis': fixed_yaxis_chk\n",
    "    }\n",
    ")\n",
    "\n",
    "display(controls, out)\n"
   ]
  },
  {
   "cell_type": "markdown",
   "metadata": {},
   "source": [
    "---\n"
   ]
  },
  {
   "cell_type": "markdown",
   "metadata": {},
   "source": [
    "<details>\n",
    "<summary><b>🎓 Teacher Information — click to expand</b></summary>\n",
    "\n",
    "\n",
    "---\n",
    "\n",
    "## 👩‍🏫 Teacher Information (Maxwell)\n",
    "\n",
    "**Purpose.** Explore stress relaxation and creep with the Maxwell model (series spring–dashpot).  \n",
    "**Key relation.** $ \\tau = \\eta / E $. Large $ \\tau $ → more elastic memory; small $ \\tau $ → more fluid-like.\n",
    "\n",
    "**Use in class.**\n",
    "1. Open in Colab via badge → *Run all*.\n",
    "2. Vary $E$, $\\eta$, $\\gamma_0$, and $\\sigma_0$; observe:\n",
    "   - Stress relaxation: exponential decay of $\\sigma(t)$.\n",
    "   - Creep: linear growth of $\\gamma(t)$.\n",
    "3. Discuss the role of $T_\\text{process}$ and Deborah number $De=\\tau/T_\\text{process}$.\n",
    "\n",
    "**Notes.** Each student runs an isolated Colab session; no shared state.\n",
    "\n",
    "\n",
    "</details>\n"
   ]
  }
 ],
 "metadata": {
  "kernelspec": {
   "display_name": "Python 3",
   "language": "python",
   "name": "python3"
  },
  "language_info": {
   "codemirror_mode": {
    "name": "ipython",
    "version": 3
   },
   "file_extension": ".py",
   "mimetype": "text/x-python",
   "name": "python",
   "nbconvert_exporter": "python",
   "pygments_lexer": "ipython3",
   "version": "3.11.13"
  }
 },
 "nbformat": 4,
 "nbformat_minor": 4
}
