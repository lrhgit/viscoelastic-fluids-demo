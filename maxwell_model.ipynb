{
 "cells": [
  {
   "cell_type": "markdown",
   "metadata": {},
   "source": [
    "[← Back to GitHub repository](https://github.com/lrhgit/viscoelastic-fluids-demo)\n"
   ]
  },
  {
   "cell_type": "markdown",
   "metadata": {},
   "source": [
    "\n",
    "# Maxwell Model — Viscoelastic Fluid (Series)\n",
    "\n",
    "Many real materials — such as polymers, biological tissues, and asphalt — exhibit both *elastic* and *viscous* behavior.  \n",
    "The **Maxwell model** represents a spring and a dashpot in **series** and captures stress relaxation and unbounded creep.\n",
    "\n",
    "$$\n",
    "\\sigma + \\tau \\dot{\\sigma} = \\eta \\dot{\\gamma}, \\qquad \\tau = \\frac{\\eta}{E}\n",
    "$$\n",
    "\n",
    "Where:  \n",
    "- $ \\sigma $ — shear stress  \n",
    "- $ \\dot{\\gamma} $ — shear rate  \n",
    "- $ E $ — elastic modulus (spring stiffness)  \n",
    "- $ \\eta $ — viscosity (dashpot resistance)  \n",
    "- $ \\tau = \\eta / E $ — relaxation time\n"
   ]
  },
  {
   "cell_type": "code",
   "execution_count": 2,
   "metadata": {},
   "outputs": [
    {
     "data": {
      "application/vnd.jupyter.widget-view+json": {
       "model_id": "b62f72fbb8334de984494662fee77030",
       "version_major": 2,
       "version_minor": 0
      },
      "text/plain": [
       "HBox(children=(VBox(children=(FloatLogSlider(value=100000.0, description='E [Pa]', max=7.0, min=3.0), FloatLog…"
      ]
     },
     "metadata": {},
     "output_type": "display_data"
    },
    {
     "data": {
      "application/vnd.jupyter.widget-view+json": {
       "model_id": "659bb093b99c41c9a7d7109da4f0e936",
       "version_major": 2,
       "version_minor": 0
      },
      "text/plain": [
       "Output()"
      ]
     },
     "metadata": {},
     "output_type": "display_data"
    }
   ],
   "source": [
    "#@title ⚙️ Imports and setup (click to expand)\n",
    "\n",
    "import numpy as np\n",
    "import matplotlib.pyplot as plt\n",
    "import ipywidgets as widgets\n",
    "from ipywidgets import HBox, VBox\n",
    "def stress_relaxation_maxwell(t, E, eta, gamma0):\n",
    "    tau = eta / E\n",
    "    return E * gamma0 * np.exp(-t / tau)\n",
    "def creep_maxwell(t, E, eta, sigma0):\n",
    "    return sigma0 / E + (sigma0 / eta) * t\n",
    "# Sliders (two-column layout)\n",
    "E_slider = widgets.FloatLogSlider(value=1e5, base=10, min=3, max=7, step=0.1, description='E [Pa]')\n",
    "eta_slider = widgets.FloatLogSlider(value=1e6, base=10, min=4, max=8, step=0.1, description='η [Pa·s]')\n",
    "gamma0_slider = widgets.FloatSlider(value=0.01, min=0.001, max=0.1, step=0.001, description='γ₀')\n",
    "sigma0_slider = widgets.FloatSlider(value=100, min=10, max=1000, step=10, description='σ₀ [Pa]')\n",
    "T_slider = widgets.FloatLogSlider(value=10, base=10, min=-1, max=3, step=0.1, description='T_process [s]')\n",
    "tmax_slider = widgets.FloatLogSlider(value=10, base=10, min=-2, max=4, step=0.1, description='t_max [s]')\n",
    "ui_left = VBox([E_slider, eta_slider, gamma0_slider])\n",
    "ui_right = VBox([sigma0_slider, T_slider, tmax_slider])\n",
    "ui = HBox([ui_left, ui_right])\n",
    "def plot_maxwell(E, eta, gamma0, sigma0, T_process, tmax):\n",
    "    tau = eta / E\n",
    "    De = tau / T_process\n",
    "    t = np.linspace(0, tmax, 400)\n",
    "    sigma = stress_relaxation_maxwell(t, E, eta, gamma0)\n",
    "    gamma = creep_maxwell(t, E, eta, sigma0)\n",
    "    fig, ax = plt.subplots(1, 2, figsize=(10, 4))\n",
    "    ax[0].plot(t, sigma, lw=2, label='Maxwell')\n",
    "    ax[0].set_title('Stress Relaxation')\n",
    "    ax[0].set_xlabel('Time [s]')\n",
    "    ax[0].set_ylabel('Stress σ [Pa]')\n",
    "    ax[0].grid(True)\n",
    "    ax[0].legend()\n",
    "    ax[1].plot(t, gamma, lw=2, label='Maxwell')\n",
    "    ax[1].set_title('Creep')\n",
    "    ax[1].set_xlabel('Time [s]')\n",
    "    ax[1].set_ylabel('Strain γ [-]')\n",
    "    ax[1].grid(True)\n",
    "    ax[1].legend()\n",
    "    plt.tight_layout()\n",
    "    plt.show()\n",
    "    print(f\"Relaxation time τ = {tau:.3g} s\")\n",
    "    print(f\"Deborah number De = {De:.3g}\")\n",
    "out = widgets.interactive_output(\n",
    "    plot_maxwell,\n",
    "    {'E': E_slider, 'eta': eta_slider, 'gamma0': gamma0_slider,\n",
    "     'sigma0': sigma0_slider, 'T_process': T_slider, 'tmax': tmax_slider}\n",
    ")\n",
    "display(ui, out)\n"
   ]
  },
  {
   "cell_type": "markdown",
   "metadata": {},
   "source": [
    "\n",
    "---\n",
    "\n",
    "## 👩‍🏫 Teacher Information (Maxwell)\n",
    "\n",
    "**Purpose.** Explore stress relaxation and creep with the Maxwell model (series spring–dashpot).  \n",
    "**Key relation.** $ \\tau = \\eta / E $. Large $ \\tau $ → more elastic memory; small $ \\tau $ → more fluid-like.\n",
    "\n",
    "**Use in class.**\n",
    "1. Open in Colab via badge → *Run all*.\n",
    "2. Vary $E$, $\\eta$, $\\gamma_0$, and $\\sigma_0$; observe:\n",
    "   - Stress relaxation: exponential decay of $\\sigma(t)$.\n",
    "   - Creep: linear growth of $\\gamma(t)$.\n",
    "3. Discuss the role of $T_\\text{process}$ and Deborah number $De=\\tau/T_\\text{process}$.\n",
    "\n",
    "**Notes.** Each student runs an isolated Colab session; no shared state.\n"
   ]
  },
  {
   "cell_type": "code",
   "execution_count": null,
   "metadata": {},
   "outputs": [],
   "source": [
    "#@title ⚙️ Code cell (click to expand)\n"
   ]
  }
 ],
 "metadata": {
  "kernelspec": {
   "display_name": "Python 3 (ipykernel)",
   "language": "python",
   "name": "python3"
  },
  "language_info": {
   "codemirror_mode": {
    "name": "ipython",
    "version": 3
   },
   "file_extension": ".py",
   "mimetype": "text/x-python",
   "name": "python",
   "nbconvert_exporter": "python",
   "pygments_lexer": "ipython3",
   "version": "3.9.6"
  }
 },
 "nbformat": 4,
 "nbformat_minor": 4
}
