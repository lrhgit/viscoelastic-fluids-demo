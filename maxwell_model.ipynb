{
 "cells": [
  {
   "cell_type": "code",
   "execution_count": 1,
   "metadata": {},
   "outputs": [
    {
     "data": {
      "text/html": [
       "\n",
       "<script>\n",
       "  function toggleCodeCells() {\n",
       "    var codeCells = document.querySelectorAll('div.input');\n",
       "    var anyVisible = Array.from(codeCells).some(c => c.style.display !== 'none');\n",
       "    codeCells.forEach(c => c.style.display = anyVisible ? 'none' : '');\n",
       "  }\n",
       "\n",
       "  // Add toggle button\n",
       "  const button = document.createElement('button');\n",
       "  button.textContent = 'Show/Hide Code';\n",
       "  button.style.position = 'fixed';\n",
       "  button.style.top = '10px';\n",
       "  button.style.right = '10px';\n",
       "  button.style.zIndex = 1000;\n",
       "  button.style.padding = '6px 10px';\n",
       "  button.style.background = '#1976D2';\n",
       "  button.style.color = 'white';\n",
       "  button.style.border = 'none';\n",
       "  button.style.borderRadius = '6px';\n",
       "  button.onclick = toggleCodeCells;\n",
       "  document.body.appendChild(button);\n",
       "\n",
       "  // Hide all code cells (including this one) on load\n",
       "  document.addEventListener('DOMContentLoaded', function() {\n",
       "    var firstCell = document.querySelector('div.input');\n",
       "    if (firstCell) firstCell.style.display = 'none';\n",
       "    toggleCodeCells();\n",
       "  });\n",
       "</script>\n"
      ],
      "text/plain": [
       "<IPython.core.display.HTML object>"
      ]
     },
     "metadata": {},
     "output_type": "display_data"
    }
   ],
   "source": [
    "#@title \u2699\ufe0f Imports and setup (click to expand)\n#@markdown This cell loads required libraries.\n\n",
    "# Hide all code cells (including this one) and add a toggle button\n",
    "from IPython.display import HTML, display\n",
    "display(HTML('''\n",
    "<script>\n",
    "  function toggleCodeCells() {\n",
    "    var codeCells = document.querySelectorAll('div.input');\n",
    "    var anyVisible = Array.from(codeCells).some(c => c.style.display !== 'none');\n",
    "    codeCells.forEach(c => c.style.display = anyVisible ? 'none' : '');\n",
    "  }\n",
    "  // Add toggle button\n",
    "  const button = document.createElement('button');\n",
    "  button.textContent = 'Show/Hide Code';\n",
    "  button.style.position = 'fixed';\n",
    "  button.style.top = '10px';\n",
    "  button.style.right = '10px';\n",
    "  button.style.zIndex = 1000;\n",
    "  button.style.padding = '6px 10px';\n",
    "  button.style.background = '#1976D2';\n",
    "  button.style.color = 'white';\n",
    "  button.style.border = 'none';\n",
    "  button.style.borderRadius = '6px';\n",
    "  button.onclick = toggleCodeCells;\n",
    "  document.body.appendChild(button);\n",
    "  // Hide all code cells (including this one) on load\n",
    "  document.addEventListener('DOMContentLoaded', function() {\n",
    "    var firstCell = document.querySelector('div.input');\n",
    "    if (firstCell) firstCell.style.display = 'none';\n",
    "    toggleCodeCells();\n",
    "  });\n",
    "</script>\n",
    "'''))\n"
   ]
  },
  {
   "cell_type": "markdown",
   "metadata": {},
   "source": [
    "\n",
    "# Maxwell Model \u2014 Viscoelastic Fluid (Series)\n",
    "\n",
    "Many real materials \u2014 such as polymers, biological tissues, and asphalt \u2014 exhibit both *elastic* and *viscous* behavior.  \n",
    "The **Maxwell model** represents a spring and a dashpot in **series** and captures stress relaxation and unbounded creep.\n",
    "\n",
    "$$\n",
    "\\sigma + \\tau \\dot{\\sigma} = \\eta \\dot{\\gamma}, \\qquad \\tau = \\frac{\\eta}{E}\n",
    "$$\n",
    "\n",
    "Where:  \n",
    "- $ \\sigma $ \u2014 shear stress  \n",
    "- $ \\dot{\\gamma} $ \u2014 shear rate  \n",
    "- $ E $ \u2014 elastic modulus (spring stiffness)  \n",
    "- $ \\eta $ \u2014 viscosity (dashpot resistance)  \n",
    "- $ \\tau = \\eta / E $ \u2014 relaxation time\n"
   ]
  },
  {
   "cell_type": "code",
   "execution_count": 2,
   "metadata": {},
   "outputs": [
    {
     "data": {
      "application/vnd.jupyter.widget-view+json": {
       "model_id": "b62f72fbb8334de984494662fee77030",
       "version_major": 2,
       "version_minor": 0
      },
      "text/plain": [
       "HBox(children=(VBox(children=(FloatLogSlider(value=100000.0, description='E [Pa]', max=7.0, min=3.0), FloatLog\u2026"
      ]
     },
     "metadata": {},
     "output_type": "display_data"
    },
    {
     "data": {
      "application/vnd.jupyter.widget-view+json": {
       "model_id": "659bb093b99c41c9a7d7109da4f0e936",
       "version_major": 2,
       "version_minor": 0
      },
      "text/plain": [
       "Output()"
      ]
     },
     "metadata": {},
     "output_type": "display_data"
    }
   ],
   "source": [
    "#@title \u2699\ufe0f Imports and setup (click to expand)\n#@markdown This cell loads required libraries.\n\n",
    "import numpy as np\n",
    "import matplotlib.pyplot as plt\n",
    "import ipywidgets as widgets\n",
    "from ipywidgets import HBox, VBox\n",
    "def stress_relaxation_maxwell(t, E, eta, gamma0):\n",
    "    tau = eta / E\n",
    "    return E * gamma0 * np.exp(-t / tau)\n",
    "def creep_maxwell(t, E, eta, sigma0):\n",
    "    return sigma0 / E + (sigma0 / eta) * t\n",
    "# Sliders (two-column layout)\n",
    "E_slider = widgets.FloatLogSlider(value=1e5, base=10, min=3, max=7, step=0.1, description='E [Pa]')\n",
    "eta_slider = widgets.FloatLogSlider(value=1e6, base=10, min=4, max=8, step=0.1, description='\u03b7 [Pa\u00b7s]')\n",
    "gamma0_slider = widgets.FloatSlider(value=0.01, min=0.001, max=0.1, step=0.001, description='\u03b3\u2080')\n",
    "sigma0_slider = widgets.FloatSlider(value=100, min=10, max=1000, step=10, description='\u03c3\u2080 [Pa]')\n",
    "T_slider = widgets.FloatLogSlider(value=10, base=10, min=-1, max=3, step=0.1, description='T_process [s]')\n",
    "tmax_slider = widgets.FloatLogSlider(value=10, base=10, min=-2, max=4, step=0.1, description='t_max [s]')\n",
    "ui_left = VBox([E_slider, eta_slider, gamma0_slider])\n",
    "ui_right = VBox([sigma0_slider, T_slider, tmax_slider])\n",
    "ui = HBox([ui_left, ui_right])\n",
    "def plot_maxwell(E, eta, gamma0, sigma0, T_process, tmax):\n",
    "    tau = eta / E\n",
    "    De = tau / T_process\n",
    "    t = np.linspace(0, tmax, 400)\n",
    "    sigma = stress_relaxation_maxwell(t, E, eta, gamma0)\n",
    "    gamma = creep_maxwell(t, E, eta, sigma0)\n",
    "    fig, ax = plt.subplots(1, 2, figsize=(10, 4))\n",
    "    ax[0].plot(t, sigma, lw=2, label='Maxwell')\n",
    "    ax[0].set_title('Stress Relaxation')\n",
    "    ax[0].set_xlabel('Time [s]')\n",
    "    ax[0].set_ylabel('Stress \u03c3 [Pa]')\n",
    "    ax[0].grid(True)\n",
    "    ax[0].legend()\n",
    "    ax[1].plot(t, gamma, lw=2, label='Maxwell')\n",
    "    ax[1].set_title('Creep')\n",
    "    ax[1].set_xlabel('Time [s]')\n",
    "    ax[1].set_ylabel('Strain \u03b3 [-]')\n",
    "    ax[1].grid(True)\n",
    "    ax[1].legend()\n",
    "    plt.tight_layout()\n",
    "    plt.show()\n",
    "    print(f\"Relaxation time \u03c4 = {tau:.3g} s\")\n",
    "    print(f\"Deborah number De = {De:.3g}\")\n",
    "out = widgets.interactive_output(\n",
    "    plot_maxwell,\n",
    "    {'E': E_slider, 'eta': eta_slider, 'gamma0': gamma0_slider,\n",
    "     'sigma0': sigma0_slider, 'T_process': T_slider, 'tmax': tmax_slider}\n",
    ")\n",
    "display(ui, out)\n"
   ]
  },
  {
   "cell_type": "markdown",
   "metadata": {},
   "source": [
    "\n",
    "---\n",
    "\n",
    "## \ud83d\udc69\u200d\ud83c\udfeb Teacher Information (Maxwell)\n",
    "\n",
    "**Purpose.** Explore stress relaxation and creep with the Maxwell model (series spring\u2013dashpot).  \n",
    "**Key relation.** $ \\tau = \\eta / E $. Large $ \\tau $ \u2192 more elastic memory; small $ \\tau $ \u2192 more fluid-like.\n",
    "\n",
    "**Use in class.**\n",
    "1. Open in Colab via badge \u2192 *Run all*.\n",
    "2. Vary $E$, $\\eta$, $\\gamma_0$, and $\\sigma_0$; observe:\n",
    "   - Stress relaxation: exponential decay of $\\sigma(t)$.\n",
    "   - Creep: linear growth of $\\gamma(t)$.\n",
    "3. Discuss the role of $T_\\text{process}$ and Deborah number $De=\\tau/T_\\text{process}$.\n",
    "\n",
    "**Notes.** Each student runs an isolated Colab session; no shared state.\n"
   ]
  },
  {
   "cell_type": "code",
   "execution_count": null,
   "metadata": {},
   "outputs": [],
   "source": [
    "#@title \u2699\ufe0f Code cell (click to expand)\n#@markdown Additional setup or calculations.\n\n"
   ]
  }
 ],
 "metadata": {
  "kernelspec": {
   "display_name": "Python 3",
   "language": "python",
   "name": "python3"
  },
  "language_info": {
   "codemirror_mode": {
    "name": "ipython",
    "version": 3
   },
   "file_extension": ".py",
   "mimetype": "text/x-python",
   "name": "python",
   "nbconvert_exporter": "python",
   "pygments_lexer": "ipython3",
   "version": "3.11.13"
  }
 },
 "nbformat": 4,
 "nbformat_minor": 4
}